{
 "cells": [
  {
   "cell_type": "markdown",
   "metadata": {},
   "source": [
    "## CLASSIFICATION MODEL"
   ]
  },
  {
   "cell_type": "markdown",
   "metadata": {},
   "source": [
    "The goal of the final part is to create a model that predicts if a car collision with certain set of parameters or circumstances results in anybody's death or severe injuries. To create this model I use California Traffic Collision Data from SWITRS (2001 - 2020), filtered since 2014. Although this dataset provides very detailed information about each collision happened in California during the last 7 years, some of the details are useless or excessive. Therefore, dataset requires accurate preprocessing to be used in model training."
   ]
  },
  {
   "cell_type": "code",
   "execution_count": 2,
   "metadata": {},
   "outputs": [],
   "source": [
    "import pandas as pd\n",
    "import zipfile\n",
    "import numpy as np\n",
    "import matplotlib.pyplot as plt\n",
    "from collections import defaultdict\n",
    "import category_encoders as ce\n",
    "from collections import Counter\n",
    "\n",
    "from sklearn.preprocessing import OrdinalEncoder\n",
    "from sklearn.feature_selection import chi2\n",
    "from sklearn.feature_selection import SelectKBest\n",
    "from sklearn.model_selection import train_test_split\n",
    "\n",
    "from sklearn.tree import DecisionTreeClassifier\n",
    "from sklearn.metrics import classification_report\n",
    "from sklearn.metrics import confusion_matrix, roc_auc_score\n",
    "from sklearn.metrics import f1_score\n",
    "\n",
    "from xgboost import XGBClassifier\n",
    "from sklearn.model_selection import cross_val_score\n",
    "from sklearn.model_selection import RepeatedStratifiedKFold\n",
    "from sklearn.ensemble import RandomForestClassifier\n",
    "from imblearn.ensemble import BalancedRandomForestClassifier\n",
    "from imblearn.ensemble import EasyEnsembleClassifier\n",
    "from sklearn.model_selection import GridSearchCV\n"
   ]
  },
  {
   "cell_type": "code",
   "execution_count": 3,
   "metadata": {},
   "outputs": [
    {
     "name": "stderr",
     "output_type": "stream",
     "text": [
      "/opt/conda/lib/python3.7/site-packages/IPython/core/interactiveshell.py:3170: DtypeWarning: Columns (21,24,25,27,29,36,49,57,67,68) have mixed types.Specify dtype option on import or set low_memory=False.\n",
      "  interactivity=interactivity, compiler=compiler, result=result)\n"
     ]
    },
    {
     "data": {
      "text/html": [
       "<div>\n",
       "<style scoped>\n",
       "    .dataframe tbody tr th:only-of-type {\n",
       "        vertical-align: middle;\n",
       "    }\n",
       "\n",
       "    .dataframe tbody tr th {\n",
       "        vertical-align: top;\n",
       "    }\n",
       "\n",
       "    .dataframe thead th {\n",
       "        text-align: right;\n",
       "    }\n",
       "</style>\n",
       "<table border=\"1\" class=\"dataframe\">\n",
       "  <thead>\n",
       "    <tr style=\"text-align: right;\">\n",
       "      <th></th>\n",
       "      <th>case_id</th>\n",
       "      <th>jurisdiction</th>\n",
       "      <th>officer_id</th>\n",
       "      <th>reporting_district</th>\n",
       "      <th>chp_shift</th>\n",
       "      <th>population</th>\n",
       "      <th>county_city_location</th>\n",
       "      <th>special_condition</th>\n",
       "      <th>beat_type</th>\n",
       "      <th>chp_beat_type</th>\n",
       "      <th>...</th>\n",
       "      <th>bicyclist_injured_count</th>\n",
       "      <th>motorcyclist_killed_count</th>\n",
       "      <th>motorcyclist_injured_count</th>\n",
       "      <th>primary_ramp</th>\n",
       "      <th>secondary_ramp</th>\n",
       "      <th>latitude</th>\n",
       "      <th>longitude</th>\n",
       "      <th>collision_date</th>\n",
       "      <th>collision_time</th>\n",
       "      <th>process_date</th>\n",
       "    </tr>\n",
       "  </thead>\n",
       "  <tbody>\n",
       "    <tr>\n",
       "      <th>0</th>\n",
       "      <td>726202</td>\n",
       "      <td>3600.0</td>\n",
       "      <td>8945</td>\n",
       "      <td>064</td>\n",
       "      <td>5</td>\n",
       "      <td>5</td>\n",
       "      <td>3612</td>\n",
       "      <td>0</td>\n",
       "      <td>0</td>\n",
       "      <td>not chp</td>\n",
       "      <td>...</td>\n",
       "      <td>0</td>\n",
       "      <td>0</td>\n",
       "      <td>0</td>\n",
       "      <td>NaN</td>\n",
       "      <td>NaN</td>\n",
       "      <td>NaN</td>\n",
       "      <td>NaN</td>\n",
       "      <td>2020-07-26</td>\n",
       "      <td>02:50:00</td>\n",
       "      <td>2020-09-30</td>\n",
       "    </tr>\n",
       "    <tr>\n",
       "      <th>1</th>\n",
       "      <td>5816493</td>\n",
       "      <td>1502.0</td>\n",
       "      <td>00001</td>\n",
       "      <td>NaN</td>\n",
       "      <td>5</td>\n",
       "      <td>6</td>\n",
       "      <td>1502</td>\n",
       "      <td>0</td>\n",
       "      <td>0</td>\n",
       "      <td>not chp</td>\n",
       "      <td>...</td>\n",
       "      <td>0</td>\n",
       "      <td>0</td>\n",
       "      <td>0</td>\n",
       "      <td>NaN</td>\n",
       "      <td>NaN</td>\n",
       "      <td>35.38353</td>\n",
       "      <td>-119.10416</td>\n",
       "      <td>2014-05-23</td>\n",
       "      <td>21:38:00</td>\n",
       "      <td>2014-07-30</td>\n",
       "    </tr>\n",
       "    <tr>\n",
       "      <th>2</th>\n",
       "      <td>5816498</td>\n",
       "      <td>5606.0</td>\n",
       "      <td>00001</td>\n",
       "      <td>NaN</td>\n",
       "      <td>5</td>\n",
       "      <td>4</td>\n",
       "      <td>5606</td>\n",
       "      <td>0</td>\n",
       "      <td>0</td>\n",
       "      <td>not chp</td>\n",
       "      <td>...</td>\n",
       "      <td>0</td>\n",
       "      <td>0</td>\n",
       "      <td>0</td>\n",
       "      <td>NaN</td>\n",
       "      <td>NaN</td>\n",
       "      <td>34.35117</td>\n",
       "      <td>-119.06705</td>\n",
       "      <td>2014-01-04</td>\n",
       "      <td>19:26:00</td>\n",
       "      <td>2014-03-03</td>\n",
       "    </tr>\n",
       "    <tr>\n",
       "      <th>3</th>\n",
       "      <td>5816553</td>\n",
       "      <td>1942.0</td>\n",
       "      <td>33260</td>\n",
       "      <td>123</td>\n",
       "      <td>5</td>\n",
       "      <td>7</td>\n",
       "      <td>1942</td>\n",
       "      <td>0</td>\n",
       "      <td>0</td>\n",
       "      <td>not chp</td>\n",
       "      <td>...</td>\n",
       "      <td>0</td>\n",
       "      <td>0</td>\n",
       "      <td>0</td>\n",
       "      <td>NaN</td>\n",
       "      <td>NaN</td>\n",
       "      <td>NaN</td>\n",
       "      <td>NaN</td>\n",
       "      <td>2014-05-19</td>\n",
       "      <td>09:00:00</td>\n",
       "      <td>2014-05-31</td>\n",
       "    </tr>\n",
       "    <tr>\n",
       "      <th>4</th>\n",
       "      <td>5816557</td>\n",
       "      <td>1948.0</td>\n",
       "      <td>20767</td>\n",
       "      <td>NaN</td>\n",
       "      <td>5</td>\n",
       "      <td>5</td>\n",
       "      <td>1948</td>\n",
       "      <td>0</td>\n",
       "      <td>0</td>\n",
       "      <td>not chp</td>\n",
       "      <td>...</td>\n",
       "      <td>0</td>\n",
       "      <td>0</td>\n",
       "      <td>0</td>\n",
       "      <td>NaN</td>\n",
       "      <td>NaN</td>\n",
       "      <td>34.42196</td>\n",
       "      <td>-118.65565</td>\n",
       "      <td>2014-04-17</td>\n",
       "      <td>07:55:00</td>\n",
       "      <td>2014-05-30</td>\n",
       "    </tr>\n",
       "  </tbody>\n",
       "</table>\n",
       "<p>5 rows × 74 columns</p>\n",
       "</div>"
      ],
      "text/plain": [
       "   case_id  jurisdiction officer_id reporting_district  chp_shift  population  \\\n",
       "0   726202        3600.0       8945                064          5           5   \n",
       "1  5816493        1502.0      00001                NaN          5           6   \n",
       "2  5816498        5606.0      00001                NaN          5           4   \n",
       "3  5816553        1942.0      33260                123          5           7   \n",
       "4  5816557        1948.0      20767                NaN          5           5   \n",
       "\n",
       "   county_city_location  special_condition  beat_type chp_beat_type  ...  \\\n",
       "0                  3612                  0          0       not chp  ...   \n",
       "1                  1502                  0          0       not chp  ...   \n",
       "2                  5606                  0          0       not chp  ...   \n",
       "3                  1942                  0          0       not chp  ...   \n",
       "4                  1948                  0          0       not chp  ...   \n",
       "\n",
       "  bicyclist_injured_count motorcyclist_killed_count  \\\n",
       "0                       0                         0   \n",
       "1                       0                         0   \n",
       "2                       0                         0   \n",
       "3                       0                         0   \n",
       "4                       0                         0   \n",
       "\n",
       "  motorcyclist_injured_count primary_ramp secondary_ramp  latitude  longitude  \\\n",
       "0                          0          NaN            NaN       NaN        NaN   \n",
       "1                          0          NaN            NaN  35.38353 -119.10416   \n",
       "2                          0          NaN            NaN  34.35117 -119.06705   \n",
       "3                          0          NaN            NaN       NaN        NaN   \n",
       "4                          0          NaN            NaN  34.42196 -118.65565   \n",
       "\n",
       "   collision_date collision_time process_date  \n",
       "0      2020-07-26       02:50:00   2020-09-30  \n",
       "1      2014-05-23       21:38:00   2014-07-30  \n",
       "2      2014-01-04       19:26:00   2014-03-03  \n",
       "3      2014-05-19       09:00:00   2014-05-31  \n",
       "4      2014-04-17       07:55:00   2014-05-30  \n",
       "\n",
       "[5 rows x 74 columns]"
      ]
     },
     "execution_count": 3,
     "metadata": {},
     "output_type": "execute_result"
    }
   ],
   "source": [
    "zf = zipfile.ZipFile('california_df.zip')\n",
    "california_df = pd.read_csv(zf.open('california_df.csv'))\n",
    "\n",
    "california_df.head()"
   ]
  },
  {
   "cell_type": "markdown",
   "metadata": {},
   "source": [
    "## MANUAL FEATURE SELECTION"
   ]
  },
  {
   "cell_type": "markdown",
   "metadata": {},
   "source": [
    "The first step is to exclude certain columns manually based on my view what can be used in model that predicts accident's outcome. Initially, there are 74 columns: 1 - target column 'collision severity', 73 - independent features.\n",
    "\n",
    "What kind of information might be useless for a model? Individual numbers, duplicating features like territory codes that provide information about collision's location already provided by other columns. Also, features about post - collision events, for instance, number of killed or injured, if there was tow-away etc.\n",
    "\n",
    "**Columns to drop - PART I:**\n",
    "\n",
    "- case_id - individual number of accident;\n",
    "- jurisdiction - correspond to county_city_location feature;\n",
    "- officer_id - individual number of an officer;\n",
    "- reporting_district - information about location of the accident provided by county_city_location feature;\n",
    "- chp_shift - California Highway Patrol shift, not valuable information;\n",
    "- city_division_lapd - Los Angeles police department, too limited information;\n",
    "- caltrans_county - information about location of the accident provided by county_city_location feature;\n",
    "- caltrans_district - information about location of the accident provided by county_city_location feature;\n",
    "- beat_number - no idea what is that;\n",
    "- tow_away - post-accident information;\n",
    "- killed_victims - post-accident information;\n",
    "- injured_victims - post-accident information;\n",
    "- hit_and_run - post-accident information;\n",
    "- not_private_property - indicates whether the collision occurred on private property, not so important information;\n",
    "- severe_injury_count - post-accident information;\n",
    "- other_visible_injury_count - post-accident information;\n",
    "- complaint_of_pain_injury_count - post-accident information;\n",
    "- pedestrian_killed_count - post-accident information;\n",
    "- pedestrian_injured_count - post-accident information;\n",
    "- bicyclist_killed_count - post-accident information;\n",
    "- bicyclist_injured_count - post-accident information;\n",
    "- motorcyclist_killed_count - post-accident information;\n",
    "- motorcyclist_injured_count - post-accident information;\n",
    "- process_date - post-accident information.\n"
   ]
  },
  {
   "cell_type": "code",
   "execution_count": 4,
   "metadata": {},
   "outputs": [],
   "source": [
    "columns_to_drop = ['case_id', 'jurisdiction','officer_id','reporting_district','chp_shift','city_division_lapd',\n",
    "                   'caltrans_county','caltrans_district','tow_away','killed_victims','injured_victims',\n",
    "                   'hit_and_run','not_private_property','severe_injury_count','other_visible_injury_count',\n",
    "                   'complaint_of_pain_injury_count','pedestrian_killed_count','pedestrian_injured_count',\n",
    "                   'bicyclist_killed_count','bicyclist_injured_count','motorcyclist_killed_count',\n",
    "                   'motorcyclist_injured_count','process_date', 'beat_number']\n",
    "\n",
    "crashes = california_df.drop(columns = columns_to_drop).copy()"
   ]
  },
  {
   "cell_type": "markdown",
   "metadata": {},
   "source": [
    "Next step to decide which columns to use is to count amount of missing values in all features. Following features contain mainly cells with missing values.\n",
    "\n",
    "**Columns to drop - PART II (MISSING VALUES):**"
   ]
  },
  {
   "cell_type": "code",
   "execution_count": 5,
   "metadata": {},
   "outputs": [
    {
     "data": {
      "text/plain": [
       "pcf_violation_code                 3015671\n",
       "route_suffix                       3015513\n",
       "road_condition_2                   3000702\n",
       "primary_ramp                       2994181\n",
       "secondary_ramp                     2993779\n",
       "weather_2                          2936611\n",
       "bicycle_collision                  2933391\n",
       "ramp_intersection                  2930739\n",
       "postmile_prefix                    2927031\n",
       "pedestrian_collision               2919589\n",
       "motorcycle_collision               2906985\n",
       "truck_collision                    2840189\n",
       "alcohol_involved                   2715324\n",
       "side_of_highway                    2710933\n",
       "postmile                           2710918\n",
       "location_type                      2710917\n",
       "state_route                        2710917\n",
       "pcf_violation_subsection           1942157\n",
       "latitude                           1294212\n",
       "longitude                          1294211\n",
       "direction                           720519\n",
       "chp_vehicle_type_at_fault           576384\n",
       "statewide_vehicle_type_at_fault     535983\n",
       "pcf_violation                       177428\n",
       "collision_time                       28256\n",
       "type_of_collision                    26647\n",
       "pcf_violation_category               25548\n",
       "road_surface                         18315\n",
       "road_condition_1                     18119\n",
       "control_device                       17645\n",
       "intersection                         17365\n",
       "motor_vehicle_involved_with          15891\n",
       "lighting                             11865\n",
       "primary_collision_factor              8967\n",
       "weather_1                             8724\n",
       "pedestrian_action                     2213\n",
       "state_highway_indicator                667\n",
       "collision_severity                      16\n",
       "secondary_road                           5\n",
       "distance                                 1\n",
       "special_condition                        0\n",
       "chp_beat_type                            0\n",
       "collision_date                           0\n",
       "beat_type                                0\n",
       "county_city_location                     0\n",
       "chp_beat_class                           0\n",
       "primary_road                             0\n",
       "chp_road_type                            0\n",
       "party_count                              0\n",
       "population                               0\n",
       "dtype: int64"
      ]
     },
     "execution_count": 5,
     "metadata": {},
     "output_type": "execute_result"
    }
   ],
   "source": [
    "crashes.isna().sum().sort_values(ascending = False)"
   ]
  },
  {
   "cell_type": "markdown",
   "metadata": {},
   "source": [
    "Not needed features because they contain too many cells with missing data:\n",
    "\n",
    "- road_condition_2;\n",
    "- primary_ramp;\n",
    "- secondary_ramp;\n",
    "- route_suffix;\n",
    "- postmile_prefix;\n",
    "- weather_2;\n",
    "- pcf_violation_code - duplicate information from pcf_violation_category;\n",
    "- state_route - duplicate information from column State Highway Indicator;\n",
    "- postmile - suppose it does not influence the probability of collision and its outcome;\n",
    "- ramp_intersection;\n",
    "- side_of_highway - suppose it duplicates direction feature;\n",
    "- pcf_violation_subsection - suppose this information is not so valuable because pcf_violation_category provides more general information about accident;\n",
    "- statewide_vehicle_type_at_fault - post-accident information: whose fault was that;\n",
    "- chp_vehicle_type_at_fault - post-accident information: whose fault was that;\n",
    "- pcf_violation - duplicates pcf_violation_category;\n",
    "- latitude - too detailed information about place of accidents, also, model's goal to find circumstances that influence probability of certain outcome, not the exact place of future collisions;\n",
    "- longitude.\n",
    "\n",
    "\n"
   ]
  },
  {
   "cell_type": "code",
   "execution_count": 6,
   "metadata": {},
   "outputs": [],
   "source": [
    "columns_to_drop_2 = ['road_condition_2','primary_ramp','secondary_ramp', 'route_suffix', 'postmile_prefix',\n",
    "                    'weather_2', 'pcf_violation_code', 'state_route', 'postmile', 'ramp_intersection',\n",
    "                     'side_of_highway', 'pcf_violation_subsection', 'statewide_vehicle_type_at_fault',\n",
    "                     'chp_vehicle_type_at_fault', 'pcf_violation', 'latitude', 'longitude']\n",
    "\n",
    "crashes = crashes.drop(columns = columns_to_drop_2)"
   ]
  },
  {
   "cell_type": "code",
   "execution_count": 7,
   "metadata": {},
   "outputs": [
    {
     "data": {
      "text/plain": [
       "(3015847, 33)"
      ]
     },
     "execution_count": 7,
     "metadata": {},
     "output_type": "execute_result"
    }
   ],
   "source": [
    "crashes.shape"
   ]
  },
  {
   "cell_type": "markdown",
   "metadata": {},
   "source": [
    "**Columns to drop - PART III:**\n",
    "\n",
    "- primary_road - too many variables that should be used in pair with county_city_location codes, but this approach results in very high cardinality of categories in a combined feature;\n",
    "- secondary_road;\n",
    "- beat_type - duplicates information in column chp_beat_type;\n",
    "- chp_beat_class - provides less detailed information than chp_beat_type.\n"
   ]
  },
  {
   "cell_type": "code",
   "execution_count": 8,
   "metadata": {},
   "outputs": [],
   "source": [
    "columns_to_drop_3 = ['primary_road', 'secondary_road', 'beat_type', 'chp_beat_class']\n",
    "\n",
    "crashes = crashes.drop(columns = columns_to_drop_3)"
   ]
  },
  {
   "cell_type": "markdown",
   "metadata": {},
   "source": [
    "Check missing values one more time."
   ]
  },
  {
   "cell_type": "code",
   "execution_count": 9,
   "metadata": {},
   "outputs": [
    {
     "data": {
      "text/plain": [
       "bicycle_collision              2933391\n",
       "pedestrian_collision           2919589\n",
       "motorcycle_collision           2906985\n",
       "truck_collision                2840189\n",
       "alcohol_involved               2715324\n",
       "location_type                  2710917\n",
       "direction                       720519\n",
       "collision_time                   28256\n",
       "type_of_collision                26647\n",
       "pcf_violation_category           25548\n",
       "road_surface                     18315\n",
       "road_condition_1                 18119\n",
       "control_device                   17645\n",
       "intersection                     17365\n",
       "motor_vehicle_involved_with      15891\n",
       "lighting                         11865\n",
       "primary_collision_factor          8967\n",
       "weather_1                         8724\n",
       "pedestrian_action                 2213\n",
       "state_highway_indicator            667\n",
       "collision_severity                  16\n",
       "distance                             1\n",
       "chp_road_type                        0\n",
       "county_city_location                 0\n",
       "party_count                          0\n",
       "chp_beat_type                        0\n",
       "special_condition                    0\n",
       "collision_date                       0\n",
       "population                           0\n",
       "dtype: int64"
      ]
     },
     "execution_count": 9,
     "metadata": {},
     "output_type": "execute_result"
    }
   ],
   "source": [
    "crashes.isna().sum().sort_values(ascending = False)"
   ]
  },
  {
   "cell_type": "markdown",
   "metadata": {},
   "source": [
    "There are still several columns with significant amount of cells with missing values, but they can be corrected based on information provided in [dictionary](https://tims.berkeley.edu/help/SWITRS.php) of the dataset."
   ]
  },
  {
   "cell_type": "code",
   "execution_count": 10,
   "metadata": {},
   "outputs": [],
   "source": [
    "# these columns have 2 options: Y (YES) or blank, therefore, NaN values = 0 or NO\n",
    "y_or_blank = ['pedestrian_collision', 'bicycle_collision', 'motorcycle_collision', 'truck_collision', 'alcohol_involved']\n",
    "\n",
    "crashes[y_or_blank] = crashes[y_or_blank].fillna(0)\n",
    "\n",
    "# for column direction blank = 'not stated'\n",
    "crashes['direction'] = crashes['direction'].fillna('not stated')\n",
    "\n",
    "# for column location_type blank = 'Not State Highway (NSH)'\n",
    "crashes['location_type'] = crashes['location_type'].fillna('NSH')"
   ]
  },
  {
   "cell_type": "code",
   "execution_count": 11,
   "metadata": {},
   "outputs": [
    {
     "name": "stdout",
     "output_type": "stream",
     "text": [
      "Proportion of rows with missing values per each feature:\n"
     ]
    },
    {
     "data": {
      "text/plain": [
       "collision_time                 0.0094\n",
       "type_of_collision              0.0088\n",
       "pcf_violation_category         0.0085\n",
       "road_surface                   0.0061\n",
       "road_condition_1               0.0060\n",
       "control_device                 0.0059\n",
       "intersection                   0.0058\n",
       "motor_vehicle_involved_with    0.0053\n",
       "lighting                       0.0039\n",
       "primary_collision_factor       0.0030\n",
       "weather_1                      0.0029\n",
       "pedestrian_action              0.0007\n",
       "state_highway_indicator        0.0002\n",
       "collision_severity             0.0000\n",
       "distance                       0.0000\n",
       "alcohol_involved               0.0000\n",
       "pedestrian_collision           0.0000\n",
       "motorcycle_collision           0.0000\n",
       "bicycle_collision              0.0000\n",
       "collision_date                 0.0000\n",
       "truck_collision                0.0000\n",
       "special_condition              0.0000\n",
       "chp_road_type                  0.0000\n",
       "chp_beat_type                  0.0000\n",
       "county_city_location           0.0000\n",
       "party_count                    0.0000\n",
       "location_type                  0.0000\n",
       "direction                      0.0000\n",
       "population                     0.0000\n",
       "dtype: float64"
      ]
     },
     "execution_count": 11,
     "metadata": {},
     "output_type": "execute_result"
    }
   ],
   "source": [
    "print('Proportion of rows with missing values per each feature:')\n",
    "np.round((crashes.isna().sum().sort_values(ascending = False))/len(crashes), 4)"
   ]
  },
  {
   "cell_type": "code",
   "execution_count": 12,
   "metadata": {},
   "outputs": [
    {
     "data": {
      "text/plain": [
       "(2864092, 29)"
      ]
     },
     "execution_count": 12,
     "metadata": {},
     "output_type": "execute_result"
    }
   ],
   "source": [
    "# I suppose that proportion of samples with missing values is so small\n",
    "# that I can easily drop these rows without damaging future model's performance.\n",
    "\n",
    "crashes = crashes.dropna()\n",
    "crashes.shape"
   ]
  },
  {
   "cell_type": "markdown",
   "metadata": {},
   "source": [
    "## MANUAL FEATURE ENGINEERING"
   ]
  },
  {
   "cell_type": "code",
   "execution_count": 13,
   "metadata": {},
   "outputs": [
    {
     "data": {
      "text/html": [
       "<div>\n",
       "<style scoped>\n",
       "    .dataframe tbody tr th:only-of-type {\n",
       "        vertical-align: middle;\n",
       "    }\n",
       "\n",
       "    .dataframe tbody tr th {\n",
       "        vertical-align: top;\n",
       "    }\n",
       "\n",
       "    .dataframe thead th {\n",
       "        text-align: right;\n",
       "    }\n",
       "</style>\n",
       "<table border=\"1\" class=\"dataframe\">\n",
       "  <thead>\n",
       "    <tr style=\"text-align: right;\">\n",
       "      <th></th>\n",
       "      <th>population</th>\n",
       "      <th>county_city_location</th>\n",
       "      <th>special_condition</th>\n",
       "      <th>chp_beat_type</th>\n",
       "      <th>distance</th>\n",
       "      <th>direction</th>\n",
       "      <th>intersection</th>\n",
       "      <th>weather_1</th>\n",
       "      <th>state_highway_indicator</th>\n",
       "      <th>location_type</th>\n",
       "      <th>...</th>\n",
       "      <th>control_device</th>\n",
       "      <th>chp_road_type</th>\n",
       "      <th>pedestrian_collision</th>\n",
       "      <th>bicycle_collision</th>\n",
       "      <th>motorcycle_collision</th>\n",
       "      <th>truck_collision</th>\n",
       "      <th>alcohol_involved</th>\n",
       "      <th>collision_month</th>\n",
       "      <th>collision_day</th>\n",
       "      <th>collision_hour</th>\n",
       "    </tr>\n",
       "  </thead>\n",
       "  <tbody>\n",
       "    <tr>\n",
       "      <th>1</th>\n",
       "      <td>6</td>\n",
       "      <td>1502</td>\n",
       "      <td>0</td>\n",
       "      <td>not chp</td>\n",
       "      <td>25.0</td>\n",
       "      <td>east</td>\n",
       "      <td>0.0</td>\n",
       "      <td>clear</td>\n",
       "      <td>0.0</td>\n",
       "      <td>NSH</td>\n",
       "      <td>...</td>\n",
       "      <td>functioning</td>\n",
       "      <td>0</td>\n",
       "      <td>0.0</td>\n",
       "      <td>0.0</td>\n",
       "      <td>0.0</td>\n",
       "      <td>0.0</td>\n",
       "      <td>0.0</td>\n",
       "      <td>5</td>\n",
       "      <td>4</td>\n",
       "      <td>21</td>\n",
       "    </tr>\n",
       "    <tr>\n",
       "      <th>2</th>\n",
       "      <td>4</td>\n",
       "      <td>5606</td>\n",
       "      <td>0</td>\n",
       "      <td>not chp</td>\n",
       "      <td>60.0</td>\n",
       "      <td>west</td>\n",
       "      <td>0.0</td>\n",
       "      <td>clear</td>\n",
       "      <td>0.0</td>\n",
       "      <td>NSH</td>\n",
       "      <td>...</td>\n",
       "      <td>none</td>\n",
       "      <td>0</td>\n",
       "      <td>0.0</td>\n",
       "      <td>0.0</td>\n",
       "      <td>0.0</td>\n",
       "      <td>0.0</td>\n",
       "      <td>0.0</td>\n",
       "      <td>1</td>\n",
       "      <td>5</td>\n",
       "      <td>19</td>\n",
       "    </tr>\n",
       "    <tr>\n",
       "      <th>3</th>\n",
       "      <td>7</td>\n",
       "      <td>1942</td>\n",
       "      <td>0</td>\n",
       "      <td>not chp</td>\n",
       "      <td>300.0</td>\n",
       "      <td>south</td>\n",
       "      <td>0.0</td>\n",
       "      <td>clear</td>\n",
       "      <td>0.0</td>\n",
       "      <td>NSH</td>\n",
       "      <td>...</td>\n",
       "      <td>none</td>\n",
       "      <td>0</td>\n",
       "      <td>0.0</td>\n",
       "      <td>0.0</td>\n",
       "      <td>0.0</td>\n",
       "      <td>0.0</td>\n",
       "      <td>0.0</td>\n",
       "      <td>5</td>\n",
       "      <td>0</td>\n",
       "      <td>9</td>\n",
       "    </tr>\n",
       "    <tr>\n",
       "      <th>4</th>\n",
       "      <td>5</td>\n",
       "      <td>1948</td>\n",
       "      <td>0</td>\n",
       "      <td>not chp</td>\n",
       "      <td>100.0</td>\n",
       "      <td>north</td>\n",
       "      <td>0.0</td>\n",
       "      <td>cloudy</td>\n",
       "      <td>0.0</td>\n",
       "      <td>NSH</td>\n",
       "      <td>...</td>\n",
       "      <td>none</td>\n",
       "      <td>0</td>\n",
       "      <td>0.0</td>\n",
       "      <td>0.0</td>\n",
       "      <td>0.0</td>\n",
       "      <td>0.0</td>\n",
       "      <td>0.0</td>\n",
       "      <td>4</td>\n",
       "      <td>3</td>\n",
       "      <td>7</td>\n",
       "    </tr>\n",
       "    <tr>\n",
       "      <th>6</th>\n",
       "      <td>6</td>\n",
       "      <td>1992</td>\n",
       "      <td>0</td>\n",
       "      <td>not chp</td>\n",
       "      <td>32.0</td>\n",
       "      <td>east</td>\n",
       "      <td>0.0</td>\n",
       "      <td>clear</td>\n",
       "      <td>0.0</td>\n",
       "      <td>NSH</td>\n",
       "      <td>...</td>\n",
       "      <td>none</td>\n",
       "      <td>0</td>\n",
       "      <td>1.0</td>\n",
       "      <td>0.0</td>\n",
       "      <td>0.0</td>\n",
       "      <td>0.0</td>\n",
       "      <td>1.0</td>\n",
       "      <td>1</td>\n",
       "      <td>4</td>\n",
       "      <td>22</td>\n",
       "    </tr>\n",
       "  </tbody>\n",
       "</table>\n",
       "<p>5 rows × 30 columns</p>\n",
       "</div>"
      ],
      "text/plain": [
       "   population  county_city_location  special_condition chp_beat_type  \\\n",
       "1           6                  1502                  0       not chp   \n",
       "2           4                  5606                  0       not chp   \n",
       "3           7                  1942                  0       not chp   \n",
       "4           5                  1948                  0       not chp   \n",
       "6           6                  1992                  0       not chp   \n",
       "\n",
       "   distance direction  intersection weather_1  state_highway_indicator  \\\n",
       "1      25.0      east           0.0     clear                      0.0   \n",
       "2      60.0      west           0.0     clear                      0.0   \n",
       "3     300.0     south           0.0     clear                      0.0   \n",
       "4     100.0     north           0.0    cloudy                      0.0   \n",
       "6      32.0      east           0.0     clear                      0.0   \n",
       "\n",
       "  location_type  ... control_device  chp_road_type pedestrian_collision  \\\n",
       "1           NSH  ...    functioning              0                  0.0   \n",
       "2           NSH  ...           none              0                  0.0   \n",
       "3           NSH  ...           none              0                  0.0   \n",
       "4           NSH  ...           none              0                  0.0   \n",
       "6           NSH  ...           none              0                  1.0   \n",
       "\n",
       "  bicycle_collision motorcycle_collision truck_collision alcohol_involved  \\\n",
       "1               0.0                  0.0             0.0              0.0   \n",
       "2               0.0                  0.0             0.0              0.0   \n",
       "3               0.0                  0.0             0.0              0.0   \n",
       "4               0.0                  0.0             0.0              0.0   \n",
       "6               0.0                  0.0             0.0              1.0   \n",
       "\n",
       "  collision_month collision_day collision_hour  \n",
       "1               5             4             21  \n",
       "2               1             5             19  \n",
       "3               5             0              9  \n",
       "4               4             3              7  \n",
       "6               1             4             22  \n",
       "\n",
       "[5 rows x 30 columns]"
      ]
     },
     "execution_count": 13,
     "metadata": {},
     "output_type": "execute_result"
    }
   ],
   "source": [
    "# dataset provides information about exact day and time.\n",
    "# I presume that year of collision does not play role, but month and day of week do.\n",
    "# Also, I extract hour of collision because it might be essential for model.\n",
    "\n",
    "# month\n",
    "crashes['collision_month'] = pd.to_datetime(crashes.collision_date).dt.month\n",
    "\n",
    "#day of week\n",
    "crashes['collision_day'] = pd.to_datetime(crashes.collision_date).dt.dayofweek\n",
    "\n",
    "#hour\n",
    "crashes['collision_hour'] = pd.to_datetime(crashes.collision_time, format='%H:%M:%S').dt.hour\n",
    "\n",
    "crashes = crashes.drop(['collision_date', 'collision_time'], axis = 1)\n",
    "crashes.head()"
   ]
  },
  {
   "cell_type": "code",
   "execution_count": 14,
   "metadata": {},
   "outputs": [
    {
     "name": "stdout",
     "output_type": "stream",
     "text": [
      "So, there are 29 feature-columns and 1 target-column.\n"
     ]
    },
    {
     "data": {
      "text/plain": [
       "Index(['population', 'county_city_location', 'special_condition',\n",
       "       'chp_beat_type', 'distance', 'direction', 'intersection', 'weather_1',\n",
       "       'state_highway_indicator', 'location_type', 'collision_severity',\n",
       "       'party_count', 'primary_collision_factor', 'pcf_violation_category',\n",
       "       'type_of_collision', 'motor_vehicle_involved_with', 'pedestrian_action',\n",
       "       'road_surface', 'road_condition_1', 'lighting', 'control_device',\n",
       "       'chp_road_type', 'pedestrian_collision', 'bicycle_collision',\n",
       "       'motorcycle_collision', 'truck_collision', 'alcohol_involved',\n",
       "       'collision_month', 'collision_day', 'collision_hour'],\n",
       "      dtype='object')"
      ]
     },
     "execution_count": 14,
     "metadata": {},
     "output_type": "execute_result"
    }
   ],
   "source": [
    "print('So, there are {} feature-columns and 1 target-column.'.format(len(crashes.columns)-1))\n",
    "crashes.columns"
   ]
  },
  {
   "cell_type": "markdown",
   "metadata": {},
   "source": [
    "## STATISTICAL FEATURE SELECTION\n",
    "\n",
    "Statistical-based feature selection techniques are used to eveluate how strong relationships are between target variable and each of independent variables. There are several statistical methods and choice which one to apply depends on kinds of input and output variables. I apply Chi-squared test that can be used for feature selection when input and output are categorical."
   ]
  },
  {
   "cell_type": "code",
   "execution_count": 15,
   "metadata": {},
   "outputs": [
    {
     "data": {
      "text/html": [
       "<div>\n",
       "<style scoped>\n",
       "    .dataframe tbody tr th:only-of-type {\n",
       "        vertical-align: middle;\n",
       "    }\n",
       "\n",
       "    .dataframe tbody tr th {\n",
       "        vertical-align: top;\n",
       "    }\n",
       "\n",
       "    .dataframe thead th {\n",
       "        text-align: right;\n",
       "    }\n",
       "</style>\n",
       "<table border=\"1\" class=\"dataframe\">\n",
       "  <thead>\n",
       "    <tr style=\"text-align: right;\">\n",
       "      <th></th>\n",
       "      <th>population</th>\n",
       "      <th>county_city_location</th>\n",
       "      <th>special_condition</th>\n",
       "      <th>chp_beat_type</th>\n",
       "      <th>distance</th>\n",
       "      <th>direction</th>\n",
       "      <th>intersection</th>\n",
       "      <th>weather_1</th>\n",
       "      <th>state_highway_indicator</th>\n",
       "      <th>location_type</th>\n",
       "      <th>...</th>\n",
       "      <th>control_device</th>\n",
       "      <th>chp_road_type</th>\n",
       "      <th>pedestrian_collision</th>\n",
       "      <th>bicycle_collision</th>\n",
       "      <th>motorcycle_collision</th>\n",
       "      <th>truck_collision</th>\n",
       "      <th>alcohol_involved</th>\n",
       "      <th>collision_month</th>\n",
       "      <th>collision_day</th>\n",
       "      <th>collision_hour</th>\n",
       "    </tr>\n",
       "  </thead>\n",
       "  <tbody>\n",
       "    <tr>\n",
       "      <th>1</th>\n",
       "      <td>6</td>\n",
       "      <td>1502</td>\n",
       "      <td>0</td>\n",
       "      <td>not chp</td>\n",
       "      <td>25.0</td>\n",
       "      <td>east</td>\n",
       "      <td>0.0</td>\n",
       "      <td>clear</td>\n",
       "      <td>0.0</td>\n",
       "      <td>NSH</td>\n",
       "      <td>...</td>\n",
       "      <td>functioning</td>\n",
       "      <td>0</td>\n",
       "      <td>0.0</td>\n",
       "      <td>0.0</td>\n",
       "      <td>0.0</td>\n",
       "      <td>0.0</td>\n",
       "      <td>0.0</td>\n",
       "      <td>5</td>\n",
       "      <td>4</td>\n",
       "      <td>21</td>\n",
       "    </tr>\n",
       "    <tr>\n",
       "      <th>2</th>\n",
       "      <td>4</td>\n",
       "      <td>5606</td>\n",
       "      <td>0</td>\n",
       "      <td>not chp</td>\n",
       "      <td>60.0</td>\n",
       "      <td>west</td>\n",
       "      <td>0.0</td>\n",
       "      <td>clear</td>\n",
       "      <td>0.0</td>\n",
       "      <td>NSH</td>\n",
       "      <td>...</td>\n",
       "      <td>none</td>\n",
       "      <td>0</td>\n",
       "      <td>0.0</td>\n",
       "      <td>0.0</td>\n",
       "      <td>0.0</td>\n",
       "      <td>0.0</td>\n",
       "      <td>0.0</td>\n",
       "      <td>1</td>\n",
       "      <td>5</td>\n",
       "      <td>19</td>\n",
       "    </tr>\n",
       "    <tr>\n",
       "      <th>3</th>\n",
       "      <td>7</td>\n",
       "      <td>1942</td>\n",
       "      <td>0</td>\n",
       "      <td>not chp</td>\n",
       "      <td>300.0</td>\n",
       "      <td>south</td>\n",
       "      <td>0.0</td>\n",
       "      <td>clear</td>\n",
       "      <td>0.0</td>\n",
       "      <td>NSH</td>\n",
       "      <td>...</td>\n",
       "      <td>none</td>\n",
       "      <td>0</td>\n",
       "      <td>0.0</td>\n",
       "      <td>0.0</td>\n",
       "      <td>0.0</td>\n",
       "      <td>0.0</td>\n",
       "      <td>0.0</td>\n",
       "      <td>5</td>\n",
       "      <td>0</td>\n",
       "      <td>9</td>\n",
       "    </tr>\n",
       "    <tr>\n",
       "      <th>4</th>\n",
       "      <td>5</td>\n",
       "      <td>1948</td>\n",
       "      <td>0</td>\n",
       "      <td>not chp</td>\n",
       "      <td>100.0</td>\n",
       "      <td>north</td>\n",
       "      <td>0.0</td>\n",
       "      <td>cloudy</td>\n",
       "      <td>0.0</td>\n",
       "      <td>NSH</td>\n",
       "      <td>...</td>\n",
       "      <td>none</td>\n",
       "      <td>0</td>\n",
       "      <td>0.0</td>\n",
       "      <td>0.0</td>\n",
       "      <td>0.0</td>\n",
       "      <td>0.0</td>\n",
       "      <td>0.0</td>\n",
       "      <td>4</td>\n",
       "      <td>3</td>\n",
       "      <td>7</td>\n",
       "    </tr>\n",
       "    <tr>\n",
       "      <th>6</th>\n",
       "      <td>6</td>\n",
       "      <td>1992</td>\n",
       "      <td>0</td>\n",
       "      <td>not chp</td>\n",
       "      <td>32.0</td>\n",
       "      <td>east</td>\n",
       "      <td>0.0</td>\n",
       "      <td>clear</td>\n",
       "      <td>0.0</td>\n",
       "      <td>NSH</td>\n",
       "      <td>...</td>\n",
       "      <td>none</td>\n",
       "      <td>0</td>\n",
       "      <td>1.0</td>\n",
       "      <td>0.0</td>\n",
       "      <td>0.0</td>\n",
       "      <td>0.0</td>\n",
       "      <td>1.0</td>\n",
       "      <td>1</td>\n",
       "      <td>4</td>\n",
       "      <td>22</td>\n",
       "    </tr>\n",
       "  </tbody>\n",
       "</table>\n",
       "<p>5 rows × 30 columns</p>\n",
       "</div>"
      ],
      "text/plain": [
       "   population  county_city_location  special_condition chp_beat_type  \\\n",
       "1           6                  1502                  0       not chp   \n",
       "2           4                  5606                  0       not chp   \n",
       "3           7                  1942                  0       not chp   \n",
       "4           5                  1948                  0       not chp   \n",
       "6           6                  1992                  0       not chp   \n",
       "\n",
       "   distance direction  intersection weather_1  state_highway_indicator  \\\n",
       "1      25.0      east           0.0     clear                      0.0   \n",
       "2      60.0      west           0.0     clear                      0.0   \n",
       "3     300.0     south           0.0     clear                      0.0   \n",
       "4     100.0     north           0.0    cloudy                      0.0   \n",
       "6      32.0      east           0.0     clear                      0.0   \n",
       "\n",
       "  location_type  ... control_device  chp_road_type pedestrian_collision  \\\n",
       "1           NSH  ...    functioning              0                  0.0   \n",
       "2           NSH  ...           none              0                  0.0   \n",
       "3           NSH  ...           none              0                  0.0   \n",
       "4           NSH  ...           none              0                  0.0   \n",
       "6           NSH  ...           none              0                  1.0   \n",
       "\n",
       "  bicycle_collision motorcycle_collision truck_collision alcohol_involved  \\\n",
       "1               0.0                  0.0             0.0              0.0   \n",
       "2               0.0                  0.0             0.0              0.0   \n",
       "3               0.0                  0.0             0.0              0.0   \n",
       "4               0.0                  0.0             0.0              0.0   \n",
       "6               0.0                  0.0             0.0              1.0   \n",
       "\n",
       "  collision_month collision_day collision_hour  \n",
       "1               5             4             21  \n",
       "2               1             5             19  \n",
       "3               5             0              9  \n",
       "4               4             3              7  \n",
       "6               1             4             22  \n",
       "\n",
       "[5 rows x 30 columns]"
      ]
     },
     "execution_count": 15,
     "metadata": {},
     "output_type": "execute_result"
    }
   ],
   "source": [
    "# I create separate dataframe for statistical analysis because I do not want to change original dataframe yet.\n",
    "# This analysis will not be used to transform original dataframe crashes, but to detect features with strong relationships with target.\n",
    "\n",
    "crashes_chi = crashes.copy()\n",
    "crashes_chi.head()"
   ]
  },
  {
   "cell_type": "code",
   "execution_count": 16,
   "metadata": {},
   "outputs": [
    {
     "data": {
      "text/plain": [
       "0    2766299\n",
       "1      97793\n",
       "Name: collision_severity, dtype: int64"
      ]
     },
     "execution_count": 16,
     "metadata": {},
     "output_type": "execute_result"
    }
   ],
   "source": [
    "# target column - collision severity has 5 categories: from lightest 'property damage only' to the worst 'fatal'.\n",
    "# I replace these categories with 1 - fatal & severe injury, 0 - others.\n",
    "\n",
    "target_map = {'property damage only': 0, 'pain': 0,'other injury': 0,'severe injury': 1, 'fatal' :1}\n",
    "\n",
    "crashes_chi['collision_severity'] = crashes_chi['collision_severity'].map(target_map)\n",
    "\n",
    "crashes_chi.collision_severity.value_counts()"
   ]
  },
  {
   "cell_type": "code",
   "execution_count": 17,
   "metadata": {},
   "outputs": [],
   "source": [
    "# target variable\n",
    "target = crashes_chi[['collision_severity']]\n",
    "\n",
    "#columns with numeric data\n",
    "X_num = crashes_chi[['distance','party_count']]\n",
    "\n",
    "#columns with categorical data\n",
    "X_cat = crashes_chi.drop(columns = ['distance','party_count','collision_severity'])\n"
   ]
  },
  {
   "cell_type": "code",
   "execution_count": 18,
   "metadata": {},
   "outputs": [
    {
     "data": {
      "text/plain": [
       "((2864092, 1), (2864092, 2), (2864092, 27))"
      ]
     },
     "execution_count": 18,
     "metadata": {},
     "output_type": "execute_result"
    }
   ],
   "source": [
    "target.shape, X_num.shape, X_cat.shape"
   ]
  },
  {
   "cell_type": "markdown",
   "metadata": {},
   "source": [
    "### Chi-squared test\n",
    "\n",
    "**Chi-squared test** - statistical test to evaluate relationship between categorical features or, in this case, between input and output variables. The idea of this test is to compare observed distribution of categories with expected distribution which was calculated under assumption that two categorical features are independent. The test statistic Chi-squared indicates how far the observed frequencies are from expected. If Chi-squared is large, spesifically, larger than certain critical value (calculated based on significance level and degree of freedom), then, variables are dependent.\n",
    "\n",
    "\n",
    "The purpose of Chi-squared test is not only to detect dependencies, but also to identify which categorical features have the strongest relationship with target variable, so, to use them in model training."
   ]
  },
  {
   "cell_type": "code",
   "execution_count": 19,
   "metadata": {},
   "outputs": [],
   "source": [
    "def prepare_inputs(X):\n",
    "    oe = OrdinalEncoder()\n",
    "    oe.fit(X)\n",
    "    X_enc = oe.transform(X)\n",
    "\n",
    "    return X_enc\n",
    "\n",
    "X_cat = X_cat.astype(str)\n",
    "X_cat_enc = prepare_inputs(X_cat)"
   ]
  },
  {
   "cell_type": "code",
   "execution_count": 20,
   "metadata": {},
   "outputs": [
    {
     "name": "stdout",
     "output_type": "stream",
     "text": [
      "Feature 0 - \"population\": 2414.30\n",
      "Feature 1 - \"county_city_location\": 129533.21\n",
      "Feature 2 - \"special_condition\": 262.91\n",
      "Feature 3 - \"chp_beat_type\": 246.11\n",
      "Feature 4 - \"direction\": 1.12\n",
      "Feature 5 - \"intersection\": 61.01\n",
      "Feature 6 - \"weather_1\": 242.36\n",
      "Feature 7 - \"state_highway_indicator\": 256.59\n",
      "Feature 8 - \"location_type\": 185.79\n",
      "Feature 9 - \"primary_collision_factor\": 1.67\n",
      "Feature 10 - \"pcf_violation_category\": 17152.21\n",
      "Feature 11 - \"type_of_collision\": 16328.34\n",
      "Feature 12 - \"motor_vehicle_involved_with\": 82.27\n",
      "Feature 13 - \"pedestrian_action\": 2607.41\n",
      "Feature 14 - \"road_surface\": 20.09\n",
      "Feature 15 - \"road_condition_1\": 5.74\n",
      "Feature 16 - \"lighting\": 5270.43\n",
      "Feature 17 - \"control_device\": 6.96\n",
      "Feature 18 - \"chp_road_type\": 1177.30\n",
      "Feature 19 - \"pedestrian_collision\": 80276.41\n",
      "Feature 20 - \"bicycle_collision\": 8223.63\n",
      "Feature 21 - \"motorcycle_collision\": 92612.26\n",
      "Feature 22 - \"truck_collision\": 0.51\n",
      "Feature 23 - \"alcohol_involved\": 20463.27\n",
      "Feature 24 - \"collision_month\": 378.60\n",
      "Feature 25 - \"collision_day\": 3203.68\n",
      "Feature 26 - \"collision_hour\": 88.48\n"
     ]
    },
    {
     "data": {
      "image/png": "[encoded data removed]",
      "text/plain": [
       "<Figure size 432x288 with 1 Axes>"
      ]
     },
     "metadata": {
      "needs_background": "light"
     },
     "output_type": "display_data"
    }
   ],
   "source": [
    "fs = SelectKBest(score_func=chi2, k='all')\n",
    "fs.fit(X_cat_enc, target)\n",
    "\n",
    "column_names_cat = X_cat.columns\n",
    "\n",
    "for i, column in zip(range(len(fs.scores_)), column_names_cat):\n",
    "    print('Feature {} - \"{}\": {:.2f}'.format(i, column, fs.scores_[i]))\n",
    "\n",
    "# plot the scores\n",
    "plt.bar([i for i in range(len(fs.scores_))], fs.scores_)\n",
    "plt.suptitle('Chi-squared scores per feature', fontsize = 12)\n",
    "plt.text(2, 120000, 'county_city_location')\n",
    "plt.text(7, 35000, 'pcf_violation_category &')\n",
    "plt.text(7, 25000, 'type_of_collision')\n",
    "plt.text(9, 76000, 'pedestrian_collision')\n",
    "plt.text(18, 95000, 'motorcycle_collision')\n",
    "plt.show()"
   ]
  },
  {
   "cell_type": "code",
   "execution_count": 21,
   "metadata": {},
   "outputs": [],
   "source": [
    "selected_features = ['population', 'county_city_location', 'special_condition','chp_beat_type',\n",
    "                     'weather_1', 'state_highway_indicator', 'pcf_violation_category', 'type_of_collision',\n",
    "                     'pedestrian_action', 'lighting', 'chp_road_type', 'pedestrian_collision',\n",
    "                     'bicycle_collision', 'motorcycle_collision', 'alcohol_involved', 'collision_day','collision_month']"
   ]
  },
  {
   "cell_type": "code",
   "execution_count": 22,
   "metadata": {},
   "outputs": [
    {
     "data": {
      "text/plain": [
       "(2864092, 19)"
      ]
     },
     "execution_count": 22,
     "metadata": {},
     "output_type": "execute_result"
    }
   ],
   "source": [
    "#select 17 categorical features and 2 numerical features\n",
    "\n",
    "crashes = crashes[['population', 'county_city_location', 'special_condition','chp_beat_type',\n",
    "                     'weather_1', 'state_highway_indicator', 'pcf_violation_category', 'type_of_collision',\n",
    "                     'pedestrian_action', 'lighting', 'chp_road_type', 'pedestrian_collision',\n",
    "                     'bicycle_collision', 'motorcycle_collision', 'alcohol_involved', 'collision_day',\n",
    "                   'collision_month', 'distance','party_count']]\n",
    "\n",
    "crashes.shape"
   ]
  },
  {
   "cell_type": "markdown",
   "metadata": {},
   "source": [
    "## ENCODING CATEGORICAL FEATURES\n",
    "\n",
    "Most machine learning algorithms accept only numerical values, therefore, categorical variables should be converted into numbers. There are various methods of encoding categorical features in a way that saves valuable information. For different categorical features I use following techniques:\n",
    "\n",
    "\n",
    "- label encoding (from 0 to n-1, where n - number of categories);\n",
    "\n",
    "- binary encoding (category converted into number, then transformed in the binary number, then split into different columns);\n",
    "\n",
    "- target encoding (replace category with posterior probability of the target for each category, might reduce number of categories)."
   ]
  },
  {
   "cell_type": "markdown",
   "metadata": {},
   "source": [
    "### COLUMNS 1 - 10:\n",
    "\n",
    "- population: categories from 1 (Incorporated (less than 2500)) to 9 (Unincorporated (Rural));\n",
    "- county_city_location: code consisting of 2 parts, first 2 firgures - one of 58 counties in California;\n",
    "- special_condition: 0 (no condition) or 1 (Schoolbus on Public Roadway);\n",
    "- chp_beat_type: 8 categories like interstate, state route or us highway etc.;\n",
    "- weather_1: 7 categories - clear, cloudy, fog, raining, snowing, other, wind;\n",
    "- state_highway_indicator: 1 - state highway, 0 - not state highway;\n",
    "- pcf_violation_category: 22 categories;\n",
    "- type_of_collision: 10 categories like rear end, sideswipe, overturned etc.;\n",
    "- pedestrian_action: 7 categories - no pedestrian involved, crossing not in crosswalk etc.;\n",
    "- lighting: 5 categories like daylight, dark with street lights etc.\n"
   ]
  },
  {
   "cell_type": "code",
   "execution_count": 23,
   "metadata": {},
   "outputs": [
    {
     "data": {
      "text/plain": [
       "0    732933\n",
       "7    702930\n",
       "6    534859\n",
       "5    493247\n",
       "4    241638\n",
       "3    109337\n",
       "2     35030\n",
       "1     14118\n",
       "Name: population, dtype: int64"
      ]
     },
     "execution_count": 23,
     "metadata": {},
     "output_type": "execute_result"
    }
   ],
   "source": [
    "# population variable is already encoded (ordinal categorical variable), BUT category '9' should be replaced with '0',\n",
    "# because '9' - is the smallest category (rural territory)\n",
    "\n",
    "crashes['population'] = crashes['population'].replace(9, 0)\n",
    "crashes.population.value_counts()"
   ]
  },
  {
   "cell_type": "code",
   "execution_count": 24,
   "metadata": {},
   "outputs": [
    {
     "name": "stderr",
     "output_type": "stream",
     "text": [
      "/opt/conda/lib/python3.7/site-packages/category_encoders/utils.py:21: FutureWarning: is_categorical is deprecated and will be removed in a future version.  Use is_categorical_dtype instead\n",
      "  elif pd.api.types.is_categorical(cols):\n"
     ]
    },
    {
     "data": {
      "text/plain": [
       "0.029825    337266\n",
       "0.032119    121205\n",
       "0.035713     64570\n",
       "0.040700     60565\n",
       "0.024410     44899\n",
       "             ...  \n",
       "0.197017         5\n",
       "0.009183         4\n",
       "0.001619         4\n",
       "0.591268         3\n",
       "0.374712         2\n",
       "Name: county_city_location, Length: 518, dtype: int64"
      ]
     },
     "execution_count": 24,
     "metadata": {},
     "output_type": "execute_result"
    }
   ],
   "source": [
    "# county_city_location: 541 categories, code consisting of 2 parts, first 2 firgures - one of 58 counties in California;\n",
    "# apply target encoding, number of categories decreases from 541 to 518\n",
    "\n",
    "#Create target encoding object\n",
    "encoder=ce.TargetEncoder(cols='county_city_location') \n",
    "\n",
    "crashes = encoder.fit_transform(crashes, target)\n",
    "\n",
    "crashes.county_city_location.value_counts()"
   ]
  },
  {
   "cell_type": "code",
   "execution_count": 25,
   "metadata": {},
   "outputs": [
    {
     "data": {
      "text/plain": [
       "0    2852882\n",
       "1      11210\n",
       "Name: special_condition, dtype: int64"
      ]
     },
     "execution_count": 25,
     "metadata": {},
     "output_type": "execute_result"
    }
   ],
   "source": [
    "# special_condition is already encoded - binary\n",
    "crashes.special_condition.value_counts()"
   ]
  },
  {
   "cell_type": "code",
   "execution_count": 26,
   "metadata": {},
   "outputs": [
    {
     "name": "stderr",
     "output_type": "stream",
     "text": [
      "/opt/conda/lib/python3.7/site-packages/category_encoders/utils.py:21: FutureWarning: is_categorical is deprecated and will be removed in a future version.  Use is_categorical_dtype instead\n",
      "  elif pd.api.types.is_categorical(cols):\n"
     ]
    },
    {
     "data": {
      "text/plain": [
       "0.031600    1372485\n",
       "0.023223     548593\n",
       "0.042109     400863\n",
       "0.053388     264573\n",
       "0.049073     138833\n",
       "0.028263     122314\n",
       "0.022599      15089\n",
       "0.049180       1342\n",
       "Name: chp_beat_type, dtype: int64"
      ]
     },
     "execution_count": 26,
     "metadata": {},
     "output_type": "execute_result"
    }
   ],
   "source": [
    "# chp_beat_type (nominal variable) has 8 categories.\n",
    "# As there are a lot of categorical variables I try not to increase number of columns per each categorical variable.\n",
    "\n",
    "# apply target encoding\n",
    "encoder=ce.TargetEncoder(cols='chp_beat_type') \n",
    "\n",
    "crashes = encoder.fit_transform(crashes, target)\n",
    "\n",
    "crashes.chp_beat_type.value_counts()"
   ]
  },
  {
   "cell_type": "code",
   "execution_count": 27,
   "metadata": {},
   "outputs": [
    {
     "data": {
      "text/plain": [
       "0.0    1676703\n",
       "1.0    1187389\n",
       "Name: state_highway_indicator, dtype: int64"
      ]
     },
     "execution_count": 27,
     "metadata": {},
     "output_type": "execute_result"
    }
   ],
   "source": [
    "# state_highway_indicator is already encoded - binary\n",
    "crashes.state_highway_indicator.value_counts()"
   ]
  },
  {
   "cell_type": "code",
   "execution_count": 28,
   "metadata": {},
   "outputs": [
    {
     "name": "stderr",
     "output_type": "stream",
     "text": [
      "/opt/conda/lib/python3.7/site-packages/category_encoders/utils.py:21: FutureWarning: is_categorical is deprecated and will be removed in a future version.  Use is_categorical_dtype instead\n",
      "  elif pd.api.types.is_categorical(cols):\n"
     ]
    },
    {
     "data": {
      "text/plain": [
       "Index(['population', 'county_city_location', 'special_condition',\n",
       "       'chp_beat_type', 'weather_1_1', 'weather_1_2', 'weather_1_3',\n",
       "       'state_highway_indicator', 'pcf_violation_category',\n",
       "       'type_of_collision', 'pedestrian_action', 'lighting', 'chp_road_type',\n",
       "       'pedestrian_collision', 'bicycle_collision', 'motorcycle_collision',\n",
       "       'alcohol_involved', 'collision_day', 'collision_month', 'distance',\n",
       "       'party_count'],\n",
       "      dtype='object')"
      ]
     },
     "execution_count": 28,
     "metadata": {},
     "output_type": "execute_result"
    }
   ],
   "source": [
    "# I suppose weather variable is one important and I do not want to reduce number of categories appluing target encoding.\n",
    "# apply binary encoding\n",
    "\n",
    "encoder = ce.BinaryEncoder(cols=['weather_1'], drop_invariant = True)\n",
    "crashes = encoder.fit_transform(crashes)\n",
    "\n",
    "crashes.columns\n"
   ]
  },
  {
   "cell_type": "code",
   "execution_count": 29,
   "metadata": {},
   "outputs": [
    {
     "name": "stderr",
     "output_type": "stream",
     "text": [
      "/opt/conda/lib/python3.7/site-packages/category_encoders/utils.py:21: FutureWarning: is_categorical is deprecated and will be removed in a future version.  Use is_categorical_dtype instead\n",
      "  elif pd.api.types.is_categorical(cols):\n"
     ]
    },
    {
     "data": {
      "text/plain": [
       "Index(['population', 'county_city_location', 'special_condition',\n",
       "       'chp_beat_type', 'weather_1_1', 'weather_1_2', 'weather_1_3',\n",
       "       'state_highway_indicator', 'pcf_violation_category_1',\n",
       "       'pcf_violation_category_2', 'pcf_violation_category_3',\n",
       "       'pcf_violation_category_4', 'pcf_violation_category_5',\n",
       "       'type_of_collision', 'pedestrian_action', 'lighting_1', 'lighting_2',\n",
       "       'lighting_3', 'chp_road_type', 'pedestrian_collision',\n",
       "       'bicycle_collision', 'motorcycle_collision', 'alcohol_involved',\n",
       "       'collision_day', 'collision_month', 'distance', 'party_count'],\n",
       "      dtype='object')"
      ]
     },
     "execution_count": 29,
     "metadata": {},
     "output_type": "execute_result"
    }
   ],
   "source": [
    "# pcf_violation_category has 22 categories and I apply binary encoding to save all categories impact.\n",
    "# lighting has 5 categories and I apply binary encoding to save all categories impact.\n",
    "\n",
    "encoder = ce.BinaryEncoder(cols=['pcf_violation_category', 'lighting'], drop_invariant = True)\n",
    "crashes = encoder.fit_transform(crashes)\n",
    "\n",
    "crashes.columns"
   ]
  },
  {
   "cell_type": "code",
   "execution_count": 30,
   "metadata": {},
   "outputs": [
    {
     "name": "stderr",
     "output_type": "stream",
     "text": [
      "/opt/conda/lib/python3.7/site-packages/category_encoders/utils.py:21: FutureWarning: is_categorical is deprecated and will be removed in a future version.  Use is_categorical_dtype instead\n",
      "  elif pd.api.types.is_categorical(cols):\n"
     ]
    },
    {
     "data": {
      "text/plain": [
       "0.012362    989229\n",
       "0.012592    551220\n",
       "0.035714    516326\n",
       "0.047435    460883\n",
       "0.075067    124009\n",
       "0.205895     78977\n",
       "0.127898     72128\n",
       "0.049441     71318\n",
       "0.034145         2\n",
       "Name: type_of_collision, dtype: int64"
      ]
     },
     "execution_count": 30,
     "metadata": {},
     "output_type": "execute_result"
    }
   ],
   "source": [
    "# type_of_collision has 10 categories, I apply target encoding\n",
    "\n",
    "# apply target encoding\n",
    "encoder=ce.TargetEncoder(cols='type_of_collision') \n",
    "\n",
    "crashes = encoder.fit_transform(crashes, target)\n",
    "\n",
    "crashes.type_of_collision.value_counts()"
   ]
  },
  {
   "cell_type": "code",
   "execution_count": 31,
   "metadata": {},
   "outputs": [
    {
     "name": "stdout",
     "output_type": "stream",
     "text": [
      "no pedestrian involved                 2777191\n",
      "crossing in intersection crosswalk       39553\n",
      "crossing not in crosswalk                22815\n",
      "in road                                  16339\n",
      "not in road                               6041\n",
      "crossing non-intersection crosswalk       2121\n",
      "using school bus                            32\n",
      "Name: pedestrian_action, dtype: int64\n",
      "\n",
      "Percentage of \"no pedestrian involved\" category in the feature - 96.97%.\n"
     ]
    }
   ],
   "source": [
    "# pedestrian_action (nominal variable) has 7 categories, but 97% of all samples are 'no pedestrian involved'.\n",
    "\n",
    "print(crashes.pedestrian_action.value_counts())\n",
    "pa = crashes.pedestrian_action.value_counts()[0] / len(crashes)\n",
    "print('\\nPercentage of \"no pedestrian involved\" category in the feature - {:.2f}%.'.format(pa*100))"
   ]
  },
  {
   "cell_type": "code",
   "execution_count": 32,
   "metadata": {},
   "outputs": [
    {
     "name": "stderr",
     "output_type": "stream",
     "text": [
      "/opt/conda/lib/python3.7/site-packages/category_encoders/utils.py:21: FutureWarning: is_categorical is deprecated and will be removed in a future version.  Use is_categorical_dtype instead\n",
      "  elif pd.api.types.is_categorical(cols):\n"
     ]
    },
    {
     "data": {
      "text/plain": [
       "0.028683    2777191\n",
       "0.126691      39553\n",
       "0.296384      22815\n",
       "0.308832      16339\n",
       "0.162721       6041\n",
       "0.155116       2121\n",
       "0.125000         32\n",
       "Name: pedestrian_action, dtype: int64"
      ]
     },
     "execution_count": 32,
     "metadata": {},
     "output_type": "execute_result"
    }
   ],
   "source": [
    "# apply target encoding\n",
    "encoder=ce.TargetEncoder(cols='pedestrian_action') \n",
    "\n",
    "crashes = encoder.fit_transform(crashes, target)\n",
    "\n",
    "crashes.pedestrian_action.value_counts()"
   ]
  },
  {
   "cell_type": "markdown",
   "metadata": {},
   "source": [
    "### COLUMNS 11 - 17\n",
    "\n",
    "- chp_road_type: 8 categories from 0 to 7;\n",
    "- pedestrian_collision: 1 - YES, 0 - NO;\n",
    "- bicycle_collision: 1 - YES, 0 - NO;\n",
    "- motorcycle_collision: 1 - YES, 0 - NO;\n",
    "- alcohol_involved: 1 - YES, 0 - NO;\n",
    "- collision_month: months;\n",
    "- collision_day: day of month."
   ]
  },
  {
   "cell_type": "code",
   "execution_count": 33,
   "metadata": {},
   "outputs": [
    {
     "data": {
      "text/plain": [
       "0    2685121\n",
       "1     155620\n",
       "6      11042\n",
       "0       8062\n",
       "5       2565\n",
       "4       1253\n",
       "3        249\n",
       "7        167\n",
       "2         13\n",
       "Name: chp_road_type, dtype: int64"
      ]
     },
     "execution_count": 33,
     "metadata": {},
     "output_type": "execute_result"
    }
   ],
   "source": [
    "# chp_road_type is already encoded\n",
    "crashes.chp_road_type.value_counts()"
   ]
  },
  {
   "cell_type": "code",
   "execution_count": 34,
   "metadata": {},
   "outputs": [
    {
     "data": {
      "text/plain": [
       "0.0    2777191\n",
       "1.0      86901\n",
       "Name: pedestrian_collision, dtype: int64"
      ]
     },
     "execution_count": 34,
     "metadata": {},
     "output_type": "execute_result"
    }
   ],
   "source": [
    "# pedestrian_collision is already encoded - binary\n",
    "crashes.pedestrian_collision.value_counts()"
   ]
  },
  {
   "cell_type": "code",
   "execution_count": 35,
   "metadata": {},
   "outputs": [
    {
     "data": {
      "text/plain": [
       "0.0    2789121\n",
       "1.0      74971\n",
       "Name: bicycle_collision, dtype: int64"
      ]
     },
     "execution_count": 35,
     "metadata": {},
     "output_type": "execute_result"
    }
   ],
   "source": [
    "# bicycle_collision is already encoded - binary\n",
    "crashes.bicycle_collision.value_counts()"
   ]
  },
  {
   "cell_type": "code",
   "execution_count": 36,
   "metadata": {},
   "outputs": [
    {
     "data": {
      "text/plain": [
       "0.0    2759645\n",
       "1.0     104447\n",
       "Name: motorcycle_collision, dtype: int64"
      ]
     },
     "execution_count": 36,
     "metadata": {},
     "output_type": "execute_result"
    }
   ],
   "source": [
    "# motorcycle_collision is already encoded - binary\n",
    "crashes.motorcycle_collision.value_counts()"
   ]
  },
  {
   "cell_type": "code",
   "execution_count": 37,
   "metadata": {},
   "outputs": [
    {
     "data": {
      "text/plain": [
       "0.0    2579102\n",
       "1.0     284990\n",
       "Name: alcohol_involved, dtype: int64"
      ]
     },
     "execution_count": 37,
     "metadata": {},
     "output_type": "execute_result"
    }
   ],
   "source": [
    "# alcohol_involved is already encoded - binary\n",
    "crashes.alcohol_involved.value_counts()"
   ]
  },
  {
   "cell_type": "code",
   "execution_count": 38,
   "metadata": {},
   "outputs": [],
   "source": [
    "crashes['chp_road_type'] = crashes.chp_road_type.astype('int32')\n"
   ]
  },
  {
   "cell_type": "code",
   "execution_count": 39,
   "metadata": {},
   "outputs": [
    {
     "data": {
      "text/plain": [
       "((2864092, 27), (2864092, 1))"
      ]
     },
     "execution_count": 39,
     "metadata": {},
     "output_type": "execute_result"
    }
   ],
   "source": [
    "crashes.shape, target.shape"
   ]
  },
  {
   "cell_type": "code",
   "execution_count": 40,
   "metadata": {},
   "outputs": [
    {
     "data": {
      "text/plain": [
       "Index(['population', 'county_city_location', 'special_condition',\n",
       "       'chp_beat_type', 'weather_1_1', 'weather_1_2', 'weather_1_3',\n",
       "       'state_highway_indicator', 'pcf_violation_category_1',\n",
       "       'pcf_violation_category_2', 'pcf_violation_category_3',\n",
       "       'pcf_violation_category_4', 'pcf_violation_category_5',\n",
       "       'type_of_collision', 'pedestrian_action', 'lighting_1', 'lighting_2',\n",
       "       'lighting_3', 'chp_road_type', 'pedestrian_collision',\n",
       "       'bicycle_collision', 'motorcycle_collision', 'alcohol_involved',\n",
       "       'collision_day', 'collision_month', 'distance', 'party_count'],\n",
       "      dtype='object')"
      ]
     },
     "execution_count": 40,
     "metadata": {},
     "output_type": "execute_result"
    }
   ],
   "source": [
    "crashes.columns"
   ]
  },
  {
   "cell_type": "code",
   "execution_count": 41,
   "metadata": {},
   "outputs": [
    {
     "data": {
      "text/plain": [
       "0    2766299\n",
       "1      97793\n",
       "Name: collision_severity, dtype: int64"
      ]
     },
     "execution_count": 41,
     "metadata": {},
     "output_type": "execute_result"
    }
   ],
   "source": [
    "target.collision_severity.value_counts()"
   ]
  },
  {
   "cell_type": "markdown",
   "metadata": {},
   "source": [
    "## Train/test split\n",
    "\n",
    "For trainig and testing the model dataset should be split into 2 parts: train set and test set. These sets should be equally distributed, so, the partitions of each class in target column in train and test sets should be similar.\n"
   ]
  },
  {
   "cell_type": "code",
   "execution_count": 42,
   "metadata": {},
   "outputs": [],
   "source": [
    "X_train, X_test, y_train, y_test = train_test_split(crashes, target, test_size=0.15, random_state = 1, shuffle = True)"
   ]
  },
  {
   "cell_type": "code",
   "execution_count": 43,
   "metadata": {},
   "outputs": [
    {
     "data": {
      "text/plain": [
       "((2434478, 27), (429614, 27), (2434478, 1), (429614, 1))"
      ]
     },
     "execution_count": 43,
     "metadata": {},
     "output_type": "execute_result"
    }
   ],
   "source": [
    "X_train.shape, X_test.shape, y_train.shape, y_test.shape"
   ]
  },
  {
   "cell_type": "code",
   "execution_count": 44,
   "metadata": {},
   "outputs": [
    {
     "name": "stdout",
     "output_type": "stream",
     "text": [
      "Distribution of classes in train set and test set\n",
      "\n",
      "Train set:\n",
      "Class=0, n=2351416 96.588\n",
      "Class=1, n=83062 3.412\n",
      "\n",
      "Test set:\n",
      "Class=0, n=414883 96.571\n",
      "Class=1, n=14731 3.429\n"
     ]
    },
    {
     "data": {
      "image/png": "[encoded data removed]",
      "text/plain": [
       "<Figure size 432x288 with 1 Axes>"
      ]
     },
     "metadata": {
      "needs_background": "light"
     },
     "output_type": "display_data"
    }
   ],
   "source": [
    "print('Distribution of classes in train set and test set')\n",
    "\n",
    "print('\\nTrain set:')\n",
    "counter = Counter(y_train['collision_severity'])\n",
    "\n",
    "for k,v in counter.items():\n",
    "    per = v / len(y_train) * 100\n",
    "    print('Class={}, n={} {:.3f}'.format(k, v, per))\n",
    "    \n",
    "print('\\nTest set:')\n",
    "\n",
    "counter_2 = Counter(y_test['collision_severity'])\n",
    "for k,v in counter_2.items():\n",
    "    per = v / len(y_test) * 100\n",
    "    print('Class={}, n={} {:.3f}'.format(k, v, per))\n",
    "    \n",
    "# plot the distribution\n",
    "plt.bar(counter.keys(), counter.values())\n",
    "plt.suptitle('Distribution of classes in target-column \"Collision severity\", Train set')\n",
    "plt.ticklabel_format(useOffset=False, style='plain')\n",
    "plt.text(-0.1, 1000000, '96.5%', fontsize = 12, color = 'white')\n",
    "plt.text(0.9, 1000000, '3.4%', fontsize = 12, color = 'black')\n",
    "plt.show()"
   ]
  },
  {
   "cell_type": "markdown",
   "metadata": {},
   "source": [
    "Although classes in target column are equally distributed in train in test sets, it is easily noticed on the plot that inside each set classes are not balanced: class - 0 is majority class, class - 1 is minority class.\n",
    "\n",
    "Imbalanced data is quite a specefic case and requires special preprocessing and algorithms to handle the problem of minority class under-representation."
   ]
  },
  {
   "cell_type": "markdown",
   "metadata": {},
   "source": [
    "**IMBALANSED DATA CLASSIFICATION**\n",
    "\n",
    "\n",
    "Dataset can be called imbalanced when target classes are not equally represented in dataset. In this case minority class constitutes very small percent of all samples. It might happen in medical datasets (percentage of people diagnosed positive for some disease in a large group of people might be very low) or in production (percentage of products defect). The main problem of imbalanced data is poor performance of classification model because there is not enough data to train it. Standard algoritms do not suit here because they assume balanced data, minority samples can be treated as outliers or ignored, so, if algorithms learn how to detect majority class, errors with minority class won't reduce performance metric significantly. Ironically, minority class samples are usually more important to classify correctly.\n",
    "\n",
    "\n",
    "\n",
    "What can be done with imbalanced data? There are several techniques that can be implemented to handle this problem. I describe what I tried and failed to implement (without code in my GitHub repository because it didn't work for this project) and what I succeded to implement.\n",
    "\n",
    "\n",
    "\n",
    "1. Undersample the majority class - it reduced significantly the overall training set and resulted in poor performance;\n",
    "\n",
    "2. Oversample the minority class (manually) - I added copied samples of minority class to increase its partition, but it didn't improve performance;\n",
    "\n",
    "3. Synthesize new samples for minority class - I tried to use SMOTE-NC algorithm (Synthetic Minority Oversampling TEchnique - Nominal-Continuous), but without success. As it requires at least one continuous feature, I suppose the problem was with numerical features 'distance' and 'party_count';\n",
    "\n",
    "4. Treat minority class as anomalies and perform anomaly detection instead of classification - I tried to use IsolationForrest algorithm, but it performed poorly;\n",
    "\n",
    "5. Adjust class weights at the algorithm level and use undersampling inside algorithms - that worked."
   ]
  },
  {
   "cell_type": "markdown",
   "metadata": {},
   "source": [
    "## Decision tree classifier\n",
    "\n",
    "One of the DTC parameters provides modification for imbalanced data - class_weight. Larger weight is assigned to minority class and a smaller weight is assigned to majority class. I chose heuristic way to determine classes weights and set the parameter as 'balanced'. "
   ]
  },
  {
   "cell_type": "code",
   "execution_count": 45,
   "metadata": {},
   "outputs": [
    {
     "data": {
      "text/plain": [
       "DecisionTreeClassifier(class_weight='balanced')"
      ]
     },
     "execution_count": 45,
     "metadata": {},
     "output_type": "execute_result"
    }
   ],
   "source": [
    "dt = DecisionTreeClassifier(class_weight='balanced')\n",
    "dt.fit(X_train, y_train)"
   ]
  },
  {
   "cell_type": "code",
   "execution_count": 46,
   "metadata": {},
   "outputs": [
    {
     "name": "stdout",
     "output_type": "stream",
     "text": [
      "Classification Report:\n",
      "              precision    recall  f1-score   support\n",
      "\n",
      "           0       0.97      0.96      0.97    414883\n",
      "           1       0.15      0.17      0.16     14731\n",
      "\n",
      "    accuracy                           0.94    429614\n",
      "   macro avg       0.56      0.57      0.56    429614\n",
      "weighted avg       0.94      0.94      0.94    429614\n",
      "\n",
      "Confusion Matrix: \n",
      "[[400041  14842]\n",
      " [ 12163   2568]]\n",
      "Area Under Curve: 0.5692761548383451\n"
     ]
    }
   ],
   "source": [
    "y_pred = dt.predict(X_test)\n",
    "\n",
    "result_1 = classification_report(y_test, y_pred)\n",
    "print('Classification Report:')\n",
    "print (result_1)\n",
    "\n",
    "print(f'Confusion Matrix: \\n{confusion_matrix(y_test, y_pred)}')\n",
    "print(f'Area Under Curve: {roc_auc_score(y_test, y_pred)}')"
   ]
  },
  {
   "cell_type": "markdown",
   "metadata": {},
   "source": [
    "**Precision: When it predicts yes, how often is it correct?**\n",
    "\n",
    "**Recall: When it's actually yes, how often does it predict yes?**\n",
    "\n",
    "**F1-score:  harmonic mean of the precision and recall.**\n",
    "\n",
    "\n",
    "High accuracy clearly demostrates what I wrote above: great results for class-0 and poor results for class-1 in total give high accuracy. That is why accuracy is not the best metric to evaluate model's performance in case of imbalanced data. I should remind that class-1 indicates car collisions with killed and injured victims and is much more important for classification. "
   ]
  },
  {
   "cell_type": "markdown",
   "metadata": {},
   "source": [
    "## Balanced Random Forest Classifier\n",
    "\n",
    "It is a modification of Random Forest that performs data resampling with undersampling of the majority class on the bootstrap sample in order to explicitly change the class distribution. Parameter class-weight =  'balanced_subsample' enables an option to compute weights based on bootstrap sample for every tree grown. "
   ]
  },
  {
   "cell_type": "code",
   "execution_count": 47,
   "metadata": {},
   "outputs": [
    {
     "name": "stderr",
     "output_type": "stream",
     "text": [
      "/opt/conda/lib/python3.7/site-packages/ipykernel_launcher.py:3: DataConversionWarning: A column-vector y was passed when a 1d array was expected. Please change the shape of y to (n_samples,), for example using ravel().\n",
      "  This is separate from the ipykernel package so we can avoid doing imports until\n"
     ]
    }
   ],
   "source": [
    "# define model, balanced_subsample - weights are computed based on the bootstrap sample for every tree\n",
    "model_2 = BalancedRandomForestClassifier(n_estimators=10, class_weight = 'balanced_subsample')\n",
    "model_2.fit(X_train, y_train)\n",
    "y_pred_2 = model_2.predict(X_test)"
   ]
  },
  {
   "cell_type": "code",
   "execution_count": 48,
   "metadata": {},
   "outputs": [
    {
     "name": "stdout",
     "output_type": "stream",
     "text": [
      "Classification Report:\n",
      "              precision    recall  f1-score   support\n",
      "\n",
      "           0       0.99      0.79      0.88    414883\n",
      "           1       0.11      0.73      0.19     14731\n",
      "\n",
      "    accuracy                           0.79    429614\n",
      "   macro avg       0.55      0.76      0.53    429614\n",
      "weighted avg       0.96      0.79      0.85    429614\n",
      "\n",
      "Confusion Matrix: \n",
      "[[327322  87561]\n",
      " [  3935  10796]]\n",
      "Area Under Curve: 0.7609131925595859\n"
     ]
    }
   ],
   "source": [
    "result_2 = classification_report(y_test, y_pred_2)\n",
    "print('Classification Report:')\n",
    "print (result_2)\n",
    "\n",
    "print(f'Confusion Matrix: \\n{confusion_matrix(y_test, y_pred_2)}')\n",
    "print(f'Area Under Curve: {roc_auc_score(y_test, y_pred_2)}')"
   ]
  },
  {
   "cell_type": "markdown",
   "metadata": {},
   "source": [
    "Area Under Curve (AUC) is a useful metric for imbalanced data classification and represents the degree of classes  separability. It is equal to the probability that a random positive sample will be ranked above a random negative sample.\n",
    "\n",
    "\n",
    "This model performes much better. Although the precision of class-1 is only 0.11, higher amount of actually predicted class-1 samples is more valuable."
   ]
  },
  {
   "cell_type": "markdown",
   "metadata": {},
   "source": [
    "## Easy Ensemble Classifier\n",
    "\n",
    "It provides an implementation of the easy ensemble technique: create multiple datasets with all of the examples in the minority class and random resampling of the majority class. This technique might be seen as a type of undersampling."
   ]
  },
  {
   "cell_type": "code",
   "execution_count": 49,
   "metadata": {},
   "outputs": [
    {
     "name": "stderr",
     "output_type": "stream",
     "text": [
      "/opt/conda/lib/python3.7/site-packages/sklearn/utils/validation.py:63: DataConversionWarning: A column-vector y was passed when a 1d array was expected. Please change the shape of y to (n_samples, ), for example using ravel().\n",
      "  return f(*args, **kwargs)\n"
     ]
    },
    {
     "data": {
      "text/plain": [
       "EasyEnsembleClassifier(n_estimators=20)"
      ]
     },
     "execution_count": 49,
     "metadata": {},
     "output_type": "execute_result"
    }
   ],
   "source": [
    "# define model\n",
    "model_3 = EasyEnsembleClassifier(n_estimators=20)\n",
    "model_3.fit(X_train, y_train)"
   ]
  },
  {
   "cell_type": "code",
   "execution_count": 50,
   "metadata": {},
   "outputs": [
    {
     "name": "stdout",
     "output_type": "stream",
     "text": [
      "Classification Report:\n",
      "              precision    recall  f1-score   support\n",
      "\n",
      "           0       0.99      0.80      0.88    414883\n",
      "           1       0.12      0.75      0.20     14731\n",
      "\n",
      "    accuracy                           0.79    429614\n",
      "   macro avg       0.55      0.77      0.54    429614\n",
      "weighted avg       0.96      0.79      0.86    429614\n",
      "\n",
      "Confusion Matrix: \n",
      "[[330039  84844]\n",
      " [  3696  11035]]\n",
      "Area Under Curve: 0.7722997541416808\n"
     ]
    }
   ],
   "source": [
    "y_pred_3 = model_3.predict(X_test)\n",
    "\n",
    "result_3 = classification_report(y_test, y_pred_3)\n",
    "print('Classification Report:')\n",
    "print (result_3)\n",
    "\n",
    "print(f'Confusion Matrix: \\n{confusion_matrix(y_test, y_pred_3)}')\n",
    "print(f'Area Under Curve: {roc_auc_score(y_test, y_pred_3)}')"
   ]
  },
  {
   "cell_type": "markdown",
   "metadata": {},
   "source": [
    "EasyEnsemble classifier performes a little bit better: higher number of truly predicted class-1 samples, lower number of false predicted samples in both classes."
   ]
  },
  {
   "cell_type": "code",
   "execution_count": 51,
   "metadata": {},
   "outputs": [
    {
     "data": {
      "text/plain": [
       "(2434478,)"
      ]
     },
     "execution_count": 51,
     "metadata": {},
     "output_type": "execute_result"
    }
   ],
   "source": [
    "y_train_s = y_train['collision_severity']\n",
    "y_train_s.shape"
   ]
  },
  {
   "cell_type": "code",
   "execution_count": 52,
   "metadata": {},
   "outputs": [
    {
     "name": "stdout",
     "output_type": "stream",
     "text": [
      "Mean ROC AUC: 0.850\n"
     ]
    }
   ],
   "source": [
    "# define evaluation procedure\n",
    "cv = RepeatedStratifiedKFold(n_splits=10, n_repeats=3, random_state=1)\n",
    "\n",
    "# evaluate model\n",
    "scores = cross_val_score(model_3, X_train, y_train_s, scoring='roc_auc', cv=cv, n_jobs=-1)\n",
    "\n",
    "# summarize performance\n",
    "print('Mean ROC AUC: %.3f' % np.mean(scores))"
   ]
  },
  {
   "cell_type": "markdown",
   "metadata": {},
   "source": [
    "## XGBoost Classifier\n",
    "\n",
    "It is an ensemble algorithm where new trees fix errors of those trees that are already part of the model. Trees are added until no further improvements can be made to the model. To handle the problem of imbalanced data, the parameter scale_pos_weight is used which turns XGBoost Classifier in a class-weighted version of algorithm. I applied Grid Search algorithm to identify the best option for scale_pos_weight parameter."
   ]
  },
  {
   "cell_type": "code",
   "execution_count": 53,
   "metadata": {},
   "outputs": [
    {
     "name": "stdout",
     "output_type": "stream",
     "text": [
      "[09:55:49] WARNING: ../src/learner.cc:1095: Starting in XGBoost 1.3.0, the default evaluation metric used with the objective 'binary:logistic' was changed from 'error' to 'logloss'. Explicitly set eval_metric if you'd like to restore the old behavior.\n"
     ]
    },
    {
     "data": {
      "text/plain": [
       "XGBClassifier(base_score=0.5, booster='gbtree', colsample_bylevel=1,\n",
       "              colsample_bynode=1, colsample_bytree=1, gamma=0, gpu_id=-1,\n",
       "              importance_type='gain', interaction_constraints='',\n",
       "              learning_rate=0.300000012, max_delta_step=0, max_depth=6,\n",
       "              min_child_weight=1, missing=nan, monotone_constraints='()',\n",
       "              n_estimators=100, n_jobs=8, num_parallel_tree=1, random_state=0,\n",
       "              reg_alpha=0, reg_lambda=1, scale_pos_weight=50, subsample=1,\n",
       "              tree_method='exact', use_label_encoder=False,\n",
       "              validate_parameters=1, verbosity=None)"
      ]
     },
     "execution_count": 53,
     "metadata": {},
     "output_type": "execute_result"
    }
   ],
   "source": [
    "model_4 = XGBClassifier(scale_pos_weight=50, use_label_encoder=False)\n",
    "model_4.fit(X_train, y_train)"
   ]
  },
  {
   "cell_type": "code",
   "execution_count": 54,
   "metadata": {},
   "outputs": [],
   "source": [
    "y_pred_4 = model_4.predict(X_test)"
   ]
  },
  {
   "cell_type": "code",
   "execution_count": 55,
   "metadata": {},
   "outputs": [
    {
     "name": "stdout",
     "output_type": "stream",
     "text": [
      "Classification Report:\n",
      "              precision    recall  f1-score   support\n",
      "\n",
      "           0       0.99      0.68      0.81    414883\n",
      "           1       0.09      0.87      0.16     14731\n",
      "\n",
      "    accuracy                           0.69    429614\n",
      "   macro avg       0.54      0.78      0.48    429614\n",
      "weighted avg       0.96      0.69      0.79    429614\n",
      "\n",
      "Confusion Matrix: \n",
      "[[282814 132069]\n",
      " [  1915  12816]]\n",
      "Area Under Curve: 0.7758368683679493\n"
     ]
    }
   ],
   "source": [
    "result_4 = classification_report(y_test, y_pred_4)\n",
    "print('Classification Report:')\n",
    "print (result_4)\n",
    "\n",
    "print(f'Confusion Matrix: \\n{confusion_matrix(y_test, y_pred_4)}')\n",
    "print(f'Area Under Curve: {roc_auc_score(y_test, y_pred_4)}')"
   ]
  },
  {
   "cell_type": "code",
   "execution_count": 56,
   "metadata": {},
   "outputs": [
    {
     "name": "stdout",
     "output_type": "stream",
     "text": [
      "Mean ROC AUC: 0.868\n"
     ]
    }
   ],
   "source": [
    "# define evaluation procedure\n",
    "cv = RepeatedStratifiedKFold(n_splits=10, n_repeats=3, random_state=1)\n",
    "\n",
    "# evaluate model\n",
    "scores_2 = cross_val_score(model_4, X_train, y_train_s, scoring='roc_auc', cv=cv, n_jobs=-1)\n",
    "\n",
    "# summarize performance\n",
    "print('Mean ROC AUC: %.3f' % np.mean(scores_2))"
   ]
  },
  {
   "cell_type": "code",
   "execution_count": 119,
   "metadata": {},
   "outputs": [
    {
     "name": "stdout",
     "output_type": "stream",
     "text": [
      "[22:48:36] WARNING: ../src/learner.cc:1095: Starting in XGBoost 1.3.0, the default evaluation metric used with the objective 'binary:logistic' was changed from 'error' to 'logloss'. Explicitly set eval_metric if you'd like to restore the old behavior.\n"
     ]
    }
   ],
   "source": [
    "model_5 = XGBClassifier(use_label_encoder=False)\n",
    "\n",
    "# define grid\n",
    "weights = [50, 65, 75, 85, 99]\n",
    "param_grid = dict(scale_pos_weight=weights)\n",
    "\n",
    "grid = GridSearchCV(estimator=model_5, param_grid=param_grid, n_jobs=-1, scoring='roc_auc')\n",
    "\n",
    "# execute the grid search\n",
    "grid_result = grid.fit(X_train, y_train)\n",
    "\n"
   ]
  },
  {
   "cell_type": "code",
   "execution_count": 120,
   "metadata": {},
   "outputs": [
    {
     "name": "stdout",
     "output_type": "stream",
     "text": [
      "Best: 0.867111 using {'scale_pos_weight': 50}\n",
      "0.867111 (0.001403) with: {'scale_pos_weight': 50}\n",
      "0.866696 (0.001012) with: {'scale_pos_weight': 65}\n",
      "0.865984 (0.001261) with: {'scale_pos_weight': 75}\n",
      "0.865675 (0.001528) with: {'scale_pos_weight': 85}\n",
      "0.865388 (0.001294) with: {'scale_pos_weight': 99}\n"
     ]
    }
   ],
   "source": [
    "# report the best configuration\n",
    "print(\"Best: %f using %s\" % (grid_result.best_score_, grid_result.best_params_))\n",
    "# report all configurations\n",
    "means = grid_result.cv_results_['mean_test_score']\n",
    "stds = grid_result.cv_results_['std_test_score']\n",
    "params = grid_result.cv_results_['params']\n",
    "\n",
    "for mean, stdev, param in zip(means, stds, params):\n",
    "    print(\"%f (%f) with: %r\" % (mean, stdev, param))"
   ]
  },
  {
   "cell_type": "markdown",
   "metadata": {},
   "source": [
    "XGBClassifier performes better in detecting true class-1, but worse in detecting class-0.\n",
    "\n",
    "**Choosing between all these models is the case of trade-off between average performance of the model in classifying both 0 and 1 classes and better performance in classifying minority class which is considered to be more important.**\n",
    "\n",
    "\n",
    "To make a right choice I should remind what is the primary purpose of the model: to improve road safety and decrease  number of collisions with killed or injured victims. Such model can be used in street designing processes to evaluate various situations from possibles outcomes perspective. Therefore, true predicted samples of class - 1 is the first value to take into account. It is better to say that some situation might be extremely dangerous and be wrong, than vice versa.\n",
    "\n",
    "**Due to this reason I choose XGBClassifier with scale_pos_weight = 50 as the final classification model.**"
   ]
  }
 ],
 "metadata": {
  "environment": {
   "name": "common-cpu.m71",
   "type": "gcloud",
   "uri": "gcr.io/deeplearning-platform-release/base-cpu:m71"
  },
  "hide_input": false,
  "kernelspec": {
   "display_name": "Python 3",
   "language": "python",
   "name": "python3"
  },
  "language_info": {
   "codemirror_mode": {
    "name": "ipython",
    "version": 3
   },
   "file_extension": ".py",
   "mimetype": "text/x-python",
   "name": "python",
   "nbconvert_exporter": "python",
   "pygments_lexer": "ipython3",
   "version": "3.7.10"
  }
 },
 "nbformat": 4,
 "nbformat_minor": 4
}
